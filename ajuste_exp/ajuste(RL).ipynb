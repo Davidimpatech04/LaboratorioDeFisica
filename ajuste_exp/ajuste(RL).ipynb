{
 "cells": [
  {
   "cell_type": "code",
   "execution_count": 1,
   "metadata": {},
   "outputs": [],
   "source": [
    "import ajuste as aj\n",
    "import pandas as pd\n",
    "import altair as alt"
   ]
  },
  {
   "cell_type": "code",
   "execution_count": null,
   "metadata": {},
   "outputs": [
    {
     "data": {
      "text/html": [
       "\n",
       "<style>\n",
       "  #altair-viz-38e30348daac4c73abeef56698ab8b24.vega-embed {\n",
       "    width: 100%;\n",
       "    display: flex;\n",
       "  }\n",
       "\n",
       "  #altair-viz-38e30348daac4c73abeef56698ab8b24.vega-embed details,\n",
       "  #altair-viz-38e30348daac4c73abeef56698ab8b24.vega-embed details summary {\n",
       "    position: relative;\n",
       "  }\n",
       "</style>\n",
       "<div id=\"altair-viz-38e30348daac4c73abeef56698ab8b24\"></div>\n",
       "<script type=\"text/javascript\">\n",
       "  var VEGA_DEBUG = (typeof VEGA_DEBUG == \"undefined\") ? {} : VEGA_DEBUG;\n",
       "  (function(spec, embedOpt){\n",
       "    let outputDiv = document.currentScript.previousElementSibling;\n",
       "    if (outputDiv.id !== \"altair-viz-38e30348daac4c73abeef56698ab8b24\") {\n",
       "      outputDiv = document.getElementById(\"altair-viz-38e30348daac4c73abeef56698ab8b24\");\n",
       "    }\n",
       "\n",
       "    const paths = {\n",
       "      \"vega\": \"https://cdn.jsdelivr.net/npm/vega@5?noext\",\n",
       "      \"vega-lib\": \"https://cdn.jsdelivr.net/npm/vega-lib?noext\",\n",
       "      \"vega-lite\": \"https://cdn.jsdelivr.net/npm/vega-lite@5.20.1?noext\",\n",
       "      \"vega-embed\": \"https://cdn.jsdelivr.net/npm/vega-embed@6?noext\",\n",
       "    };\n",
       "\n",
       "    function maybeLoadScript(lib, version) {\n",
       "      var key = `${lib.replace(\"-\", \"\")}_version`;\n",
       "      return (VEGA_DEBUG[key] == version) ?\n",
       "        Promise.resolve(paths[lib]) :\n",
       "        new Promise(function(resolve, reject) {\n",
       "          var s = document.createElement('script');\n",
       "          document.getElementsByTagName(\"head\")[0].appendChild(s);\n",
       "          s.async = true;\n",
       "          s.onload = () => {\n",
       "            VEGA_DEBUG[key] = version;\n",
       "            return resolve(paths[lib]);\n",
       "          };\n",
       "          s.onerror = () => reject(`Error loading script: ${paths[lib]}`);\n",
       "          s.src = paths[lib];\n",
       "        });\n",
       "    }\n",
       "\n",
       "    function showError(err) {\n",
       "      outputDiv.innerHTML = `<div class=\"error\" style=\"color:red;\">${err}</div>`;\n",
       "      throw err;\n",
       "    }\n",
       "\n",
       "    function displayChart(vegaEmbed) {\n",
       "      vegaEmbed(outputDiv, spec, embedOpt)\n",
       "        .catch(err => showError(`Javascript Error: ${err.message}<br>This usually means there's a typo in your chart specification. See the javascript console for the full traceback.`));\n",
       "    }\n",
       "\n",
       "    if(typeof define === \"function\" && define.amd) {\n",
       "      requirejs.config({paths});\n",
       "      let deps = [\"vega-embed\"];\n",
       "      require(deps, displayChart, err => showError(`Error loading script: ${err.message}`));\n",
       "    } else {\n",
       "      maybeLoadScript(\"vega\", \"5\")\n",
       "        .then(() => maybeLoadScript(\"vega-lite\", \"5.20.1\"))\n",
       "        .then(() => maybeLoadScript(\"vega-embed\", \"6\"))\n",
       "        .catch(showError)\n",
       "        .then(() => displayChart(vegaEmbed));\n",
       "    }\n",
       "  })({\"config\": {\"view\": {\"continuousWidth\": 300, \"continuousHeight\": 300}}, \"layer\": [{\"data\": {\"name\": \"data-0c47b2dd8747768be5c47cb3782941a1\"}, \"mark\": {\"type\": \"circle\", \"color\": \"blueviolet\"}, \"encoding\": {\"x\": {\"field\": \"Time\", \"scale\": {\"domain\": [0.5, 0.6399999999999999]}, \"title\": \"Tempo (ms)\", \"type\": \"quantitative\"}, \"y\": {\"field\": \"U_b\", \"title\": \"Tens\\u00e3o (V)\", \"type\": \"quantitative\"}}, \"title\": \"Gr\\u00e1fico de Tens\\u00e3o vs Tempo\"}, {\"data\": {\"name\": \"data-c73495e942bd16db2e5055f0861f16a2\"}, \"mark\": {\"type\": \"line\", \"color\": \"red\"}, \"encoding\": {\"x\": {\"field\": \"Time\", \"scale\": {\"domain\": [0.5, 0.6399999999999999]}, \"title\": \"Tempo (ms)\", \"type\": \"quantitative\"}, \"y\": {\"field\": \"U_b\", \"title\": \"Tens\\u00e3o (V)\", \"type\": \"quantitative\"}}, \"title\": \"Gr\\u00e1fico de Tens\\u00e3o vs Tempo\"}], \"height\": 400, \"width\": 600, \"$schema\": \"https://vega.github.io/schema/vega-lite/v5.20.1.json\", \"datasets\": {\"data-0c47b2dd8747768be5c47cb3782941a1\": [{\"Time\": 0.5, \"U_y\": 2.177067, \"U_b\": 0.4862667}, {\"Time\": 0.505, \"U_y\": -2.5992, \"U_b\": 0.1190667}, {\"Time\": 0.51, \"U_y\": -2.479733, \"U_b\": -0.1394667}, {\"Time\": 0.5149999999999999, \"U_y\": -2.401333, \"U_b\": -0.2989333}, {\"Time\": 0.52, \"U_y\": -2.357867, \"U_b\": -0.3784}, {\"Time\": 0.525, \"U_y\": -2.321333, \"U_b\": -0.4425333}, {\"Time\": 0.53, \"U_y\": -2.309067, \"U_b\": -0.4722667}, {\"Time\": 0.5349999999999999, \"U_y\": -2.3016, \"U_b\": -0.49}, {\"Time\": 0.54, \"U_y\": -2.292933, \"U_b\": -0.5134667}, {\"Time\": 0.5449999999999999, \"U_y\": -2.280667, \"U_b\": -0.5094666}, {\"Time\": 0.55, \"U_y\": -2.2824, \"U_b\": -0.5168}, {\"Time\": 0.555, \"U_y\": -2.2836, \"U_b\": -0.5174667}, {\"Time\": 0.56, \"U_y\": -2.276667, \"U_b\": -0.518}, {\"Time\": 0.565, \"U_y\": -2.281333, \"U_b\": -0.5248}, {\"Time\": 0.5700000000000001, \"U_y\": -2.2732, \"U_b\": -0.5214667}, {\"Time\": 0.575, \"U_y\": -2.2848, \"U_b\": -0.5237333}, {\"Time\": 0.58, \"U_y\": -2.281333, \"U_b\": -0.5202667}, {\"Time\": 0.585, \"U_y\": -2.274267, \"U_b\": -0.522}, {\"Time\": 0.5900000000000001, \"U_y\": -2.280133, \"U_b\": -0.5237333}, {\"Time\": 0.595, \"U_y\": -2.277733, \"U_b\": -0.5254667}, {\"Time\": 0.6, \"U_y\": -2.276667, \"U_b\": -0.5248}, {\"Time\": 0.605, \"U_y\": -2.272533, \"U_b\": -0.5282667}, {\"Time\": 0.61, \"U_y\": -2.280133, \"U_b\": -0.518}, {\"Time\": 0.615, \"U_y\": -2.278933, \"U_b\": -0.518}, {\"Time\": 0.62, \"U_y\": -2.274267, \"U_b\": -0.5202667}, {\"Time\": 0.625, \"U_y\": -2.277733, \"U_b\": -0.5208}, {\"Time\": 0.63, \"U_y\": -2.2824, \"U_b\": -0.518}, {\"Time\": 0.635, \"U_y\": -2.273733, \"U_b\": -0.5237333}, {\"Time\": 0.6399999999999999, \"U_y\": -2.290533, \"U_b\": -0.534}], \"data-c73495e942bd16db2e5055f0861f16a2\": [{\"Time\": 0.5, \"U_b\": 0.49448054745883363}, {\"Time\": 0.505, \"U_b\": 0.10107500075881892}, {\"Time\": 0.51, \"U_b\": -0.14036793823001437}, {\"Time\": 0.5149999999999999, \"U_b\": -0.2885475795099982}, {\"Time\": 0.52, \"U_b\": -0.3794891749934834}, {\"Time\": 0.525, \"U_b\": -0.4353023333844833}, {\"Time\": 0.53, \"U_b\": -0.46955628101996993}, {\"Time\": 0.5349999999999999, \"U_b\": -0.49057879546709804}, {\"Time\": 0.54, \"U_b\": -0.503480844550103}, {\"Time\": 0.5449999999999999, \"U_b\": -0.5113991585538303}, {\"Time\": 0.55, \"U_b\": -0.5162588282278686}, {\"Time\": 0.555, \"U_b\": -0.5192413304789346}, {\"Time\": 0.56, \"U_b\": -0.5210717675815087}, {\"Time\": 0.565, \"U_b\": -0.5221951531498793}, {\"Time\": 0.5700000000000001, \"U_b\": -0.5228846033000366}, {\"Time\": 0.575, \"U_b\": -0.5233077363034642}, {\"Time\": 0.58, \"U_b\": -0.5235674237348888}, {\"Time\": 0.585, \"U_b\": -0.5237268004828467}, {\"Time\": 0.5900000000000001, \"U_b\": -0.523824614026037}, {\"Time\": 0.595, \"U_b\": -0.5238846446726276}, {\"Time\": 0.6, \"U_b\": -0.5239214869994931}, {\"Time\": 0.605, \"U_b\": -0.5239440980677718}, {\"Time\": 0.61, \"U_b\": -0.5239579750525389}, {\"Time\": 0.615, \"U_b\": -0.5239664917092424}, {\"Time\": 0.62, \"U_b\": -0.5239717185969721}, {\"Time\": 0.625, \"U_b\": -0.5239749264702362}, {\"Time\": 0.63, \"U_b\": -0.5239768952232324}, {\"Time\": 0.635, \"U_b\": -0.5239781034967648}, {\"Time\": 0.6399999999999999, \"U_b\": -0.5239788450448065}]}}, {\"mode\": \"vega-lite\"});\n",
       "</script>"
      ],
      "text/plain": [
       "alt.LayerChart(...)"
      ]
     },
     "metadata": {},
     "output_type": "display_data"
    }
   ],
   "source": [
    "path = \"RL-01.csv\"\n",
    "\n",
    "data = aj.slicing_data(path,[0.5,0.8],Rl=True)\n",
    "data_regres, b = aj.regres_exp(data)\n",
    "(aj.data_x_regression(data,data_regres)).display()\n",
    "\n",
    "tal_dc = 1/(b*1000)\n",
    "\n"
   ]
  },
  {
   "cell_type": "code",
   "execution_count": null,
   "metadata": {},
   "outputs": [],
   "source": [
    "with open(\"RC-01.txt\", \"w\") as m:\n",
    "\n",
    "    m.write(f\"tal subindo com ajuste: {tal}\\n\")\n",
    "    m.write(f\"tal_descendo com ajuste: {tal_dc}\\n\")"
   ]
  },
  {
   "cell_type": "code",
   "execution_count": null,
   "metadata": {},
   "outputs": [
    {
     "data": {
      "text/html": [
       "\n",
       "<style>\n",
       "  #altair-viz-e2ccbfcd9b464486958780931bd764d9.vega-embed {\n",
       "    width: 100%;\n",
       "    display: flex;\n",
       "  }\n",
       "\n",
       "  #altair-viz-e2ccbfcd9b464486958780931bd764d9.vega-embed details,\n",
       "  #altair-viz-e2ccbfcd9b464486958780931bd764d9.vega-embed details summary {\n",
       "    position: relative;\n",
       "  }\n",
       "</style>\n",
       "<div id=\"altair-viz-e2ccbfcd9b464486958780931bd764d9\"></div>\n",
       "<script type=\"text/javascript\">\n",
       "  var VEGA_DEBUG = (typeof VEGA_DEBUG == \"undefined\") ? {} : VEGA_DEBUG;\n",
       "  (function(spec, embedOpt){\n",
       "    let outputDiv = document.currentScript.previousElementSibling;\n",
       "    if (outputDiv.id !== \"altair-viz-e2ccbfcd9b464486958780931bd764d9\") {\n",
       "      outputDiv = document.getElementById(\"altair-viz-e2ccbfcd9b464486958780931bd764d9\");\n",
       "    }\n",
       "\n",
       "    const paths = {\n",
       "      \"vega\": \"https://cdn.jsdelivr.net/npm/vega@5?noext\",\n",
       "      \"vega-lib\": \"https://cdn.jsdelivr.net/npm/vega-lib?noext\",\n",
       "      \"vega-lite\": \"https://cdn.jsdelivr.net/npm/vega-lite@5.20.1?noext\",\n",
       "      \"vega-embed\": \"https://cdn.jsdelivr.net/npm/vega-embed@6?noext\",\n",
       "    };\n",
       "\n",
       "    function maybeLoadScript(lib, version) {\n",
       "      var key = `${lib.replace(\"-\", \"\")}_version`;\n",
       "      return (VEGA_DEBUG[key] == version) ?\n",
       "        Promise.resolve(paths[lib]) :\n",
       "        new Promise(function(resolve, reject) {\n",
       "          var s = document.createElement('script');\n",
       "          document.getElementsByTagName(\"head\")[0].appendChild(s);\n",
       "          s.async = true;\n",
       "          s.onload = () => {\n",
       "            VEGA_DEBUG[key] = version;\n",
       "            return resolve(paths[lib]);\n",
       "          };\n",
       "          s.onerror = () => reject(`Error loading script: ${paths[lib]}`);\n",
       "          s.src = paths[lib];\n",
       "        });\n",
       "    }\n",
       "\n",
       "    function showError(err) {\n",
       "      outputDiv.innerHTML = `<div class=\"error\" style=\"color:red;\">${err}</div>`;\n",
       "      throw err;\n",
       "    }\n",
       "\n",
       "    function displayChart(vegaEmbed) {\n",
       "      vegaEmbed(outputDiv, spec, embedOpt)\n",
       "        .catch(err => showError(`Javascript Error: ${err.message}<br>This usually means there's a typo in your chart specification. See the javascript console for the full traceback.`));\n",
       "    }\n",
       "\n",
       "    if(typeof define === \"function\" && define.amd) {\n",
       "      requirejs.config({paths});\n",
       "      let deps = [\"vega-embed\"];\n",
       "      require(deps, displayChart, err => showError(`Error loading script: ${err.message}`));\n",
       "    } else {\n",
       "      maybeLoadScript(\"vega\", \"5\")\n",
       "        .then(() => maybeLoadScript(\"vega-lite\", \"5.20.1\"))\n",
       "        .then(() => maybeLoadScript(\"vega-embed\", \"6\"))\n",
       "        .catch(showError)\n",
       "        .then(() => displayChart(vegaEmbed));\n",
       "    }\n",
       "  })({\"config\": {\"view\": {\"continuousWidth\": 300, \"continuousHeight\": 300}}, \"layer\": [{\"data\": {\"name\": \"data-e5a339cf50e864061d9792dad4ff9ef4\"}, \"mark\": {\"type\": \"circle\", \"color\": \"blueviolet\"}, \"encoding\": {\"x\": {\"field\": \"Time\", \"scale\": {\"domain\": [0.9999999999999826, 1.135]}, \"title\": \"Tempo (ms)\", \"type\": \"quantitative\"}, \"y\": {\"field\": \"U_b\", \"title\": \"Tens\\u00e3o (V)\", \"type\": \"quantitative\"}}, \"title\": \"Gr\\u00e1fico de Tens\\u00e3o vs Tempo\"}, {\"data\": {\"name\": \"data-b0d5373a2315ae1e22146509fa384c42\"}, \"mark\": {\"type\": \"line\", \"color\": \"red\"}, \"encoding\": {\"x\": {\"field\": \"Time\", \"scale\": {\"domain\": [0.9999999999999826, 1.135]}, \"title\": \"Tempo (ms)\", \"type\": \"quantitative\"}, \"y\": {\"field\": \"U_b\", \"title\": \"Tens\\u00e3o (V)\", \"type\": \"quantitative\"}}, \"title\": \"Gr\\u00e1fico de Tens\\u00e3o vs Tempo\"}], \"height\": 400, \"width\": 600, \"$schema\": \"https://vega.github.io/schema/vega-lite/v5.20.1.json\", \"datasets\": {\"data-e5a339cf50e864061d9792dad4ff9ef4\": [{\"Time\": 0.9999999999999826, \"U_y\": -2.2836, \"U_b\": -0.5317333}, {\"Time\": 1.005, \"U_y\": 2.502, \"U_b\": -0.1474667}, {\"Time\": 1.01, \"U_y\": 2.390533, \"U_b\": 0.09506667}, {\"Time\": 1.015, \"U_y\": 2.311067, \"U_b\": 0.2654667}, {\"Time\": 1.02, \"U_y\": 2.2444, \"U_b\": 0.3512}, {\"Time\": 1.025, \"U_y\": 2.2264, \"U_b\": 0.4096}, {\"Time\": 1.03, \"U_y\": 2.201467, \"U_b\": 0.4381333}, {\"Time\": 1.035, \"U_y\": 2.195067, \"U_b\": 0.4598667}, {\"Time\": 1.04, \"U_y\": 2.179333, \"U_b\": 0.4725333}, {\"Time\": 1.045, \"U_y\": 2.174133, \"U_b\": 0.4788}, {\"Time\": 1.05, \"U_y\": 2.178267, \"U_b\": 0.4862667}, {\"Time\": 1.055, \"U_y\": 2.175867, \"U_b\": 0.4828}, {\"Time\": 1.06, \"U_y\": 2.177067, \"U_b\": 0.4862667}, {\"Time\": 1.065, \"U_y\": 2.176533, \"U_b\": 0.4810667}, {\"Time\": 1.07, \"U_y\": 2.1724, \"U_b\": 0.4908}, {\"Time\": 1.075, \"U_y\": 2.167733, \"U_b\": 0.4765334}, {\"Time\": 1.08, \"U_y\": 2.177067, \"U_b\": 0.4953333}, {\"Time\": 1.085, \"U_y\": 2.176533, \"U_b\": 0.4862667}, {\"Time\": 1.09, \"U_y\": 2.178267, \"U_b\": 0.4953333}, {\"Time\": 1.095, \"U_y\": 2.170667, \"U_b\": 0.4948}, {\"Time\": 1.1, \"U_y\": 2.1724, \"U_b\": 0.4885333}, {\"Time\": 1.105, \"U_y\": 2.186933, \"U_b\": 0.4948}, {\"Time\": 1.11, \"U_y\": 2.1828, \"U_b\": 0.4896}, {\"Time\": 1.115, \"U_y\": 2.182267, \"U_b\": 0.4930667}, {\"Time\": 1.12, \"U_y\": 2.165467, \"U_b\": 0.4976}, {\"Time\": 1.125, \"U_y\": 2.180533, \"U_b\": 0.4896}, {\"Time\": 1.13, \"U_y\": 2.1736, \"U_b\": 0.4908}, {\"Time\": 1.135, \"U_y\": 2.193333, \"U_b\": 0.5}], \"data-b0d5373a2315ae1e22146509fa384c42\": [{\"Time\": 0.9999999999999826, \"U_b\": -0.5372083087976518}, {\"Time\": 1.005, \"U_b\": -0.13877232816784424}, {\"Time\": 1.01, \"U_b\": 0.10537501278183897}, {\"Time\": 1.015, \"U_b\": 0.25497978491821605}, {\"Time\": 1.02, \"U_b\": 0.34665224696068664}, {\"Time\": 1.025, \"U_b\": 0.4028258581157267}, {\"Time\": 1.03, \"U_b\": 0.4372470410958026}, {\"Time\": 1.035, \"U_b\": 0.45833911286020595}, {\"Time\": 1.04, \"U_b\": 0.47126358124853207}, {\"Time\": 1.045, \"U_b\": 0.47918323394963536}, {\"Time\": 1.05, \"U_b\": 0.4840361143174462}, {\"Time\": 1.055, \"U_b\": 0.4870097861125491}, {\"Time\": 1.06, \"U_b\": 0.4888319460000347}, {\"Time\": 1.065, \"U_b\": 0.4899485005105322}, {\"Time\": 1.07, \"U_b\": 0.49063268524287895}, {\"Time\": 1.075, \"U_b\": 0.4910519292149156}, {\"Time\": 1.08, \"U_b\": 0.4913088269499559}, {\"Time\": 1.085, \"U_b\": 0.49146624470827993}, {\"Time\": 1.09, \"U_b\": 0.4915627046892598}, {\"Time\": 1.095, \"U_b\": 0.49162181192105936}, {\"Time\": 1.1, \"U_b\": 0.4916580307220121}, {\"Time\": 1.105, \"U_b\": 0.49168022430987796}, {\"Time\": 1.11, \"U_b\": 0.4916938237479986}, {\"Time\": 1.115, \"U_b\": 0.49170215699804876}, {\"Time\": 1.12, \"U_b\": 0.4917072633161027}, {\"Time\": 1.125, \"U_b\": 0.4917103922854617}, {\"Time\": 1.13, \"U_b\": 0.49171230960615075}, {\"Time\": 1.135, \"U_b\": 0.4917134844718023}]}}, {\"mode\": \"vega-lite\"});\n",
       "</script>"
      ],
      "text/plain": [
       "alt.LayerChart(...)"
      ]
     },
     "metadata": {},
     "output_type": "display_data"
    }
   ],
   "source": [
    "data = aj.slicing_data(path,[1,1.2],Rl=True,ascending=True)\n",
    "data_regres, b = aj.regres_exp(data)\n",
    "(aj.data_x_regression(data,data_regres)).display()\n",
    "\n",
    "tal_sb = 1/(b*1000)\n",
    "\n"
   ]
  }
 ],
 "metadata": {
  "kernelspec": {
   "display_name": "Python 3",
   "language": "python",
   "name": "python3"
  },
  "language_info": {
   "codemirror_mode": {
    "name": "ipython",
    "version": 3
   },
   "file_extension": ".py",
   "mimetype": "text/x-python",
   "name": "python",
   "nbconvert_exporter": "python",
   "pygments_lexer": "ipython3",
   "version": "3.11.9"
  }
 },
 "nbformat": 4,
 "nbformat_minor": 2
}
