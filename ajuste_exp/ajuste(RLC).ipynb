{
 "cells": [
  {
   "cell_type": "code",
   "execution_count": 1,
   "metadata": {},
   "outputs": [],
   "source": [
    "import ajuste as aj\n",
    "import pandas as pd\n",
    "import altair as alt"
   ]
  },
  {
   "cell_type": "code",
   "execution_count": 3,
   "metadata": {},
   "outputs": [
    {
     "name": "stdout",
     "output_type": "stream",
     "text": [
      "      Time  U_b\n",
      "600  3.000  NaN\n",
      "601  3.005  NaN\n",
      "602  3.010  NaN\n",
      "603  3.015  NaN\n",
      "604  3.020  NaN\n",
      "..     ...  ...\n",
      "696  3.480  NaN\n",
      "697  3.485  NaN\n",
      "698  3.490  NaN\n",
      "699  3.495  NaN\n",
      "700  3.500  NaN\n",
      "\n",
      "[101 rows x 2 columns]\n"
     ]
    },
    {
     "name": "stderr",
     "output_type": "stream",
     "text": [
      "c:\\Users\\pyde1\\Videos\\Captures\\LaboratorioDeFisica\\ajuste_exp\\ajuste.py:17: RuntimeWarning: divide by zero encountered in scalar divide\n",
      "  np.cos(np.sqrt(c**2 - b**2) * x + b / np.sqrt(c**2 - b**2))\n",
      "C:\\Users\\pyde1\\AppData\\Local\\Packages\\PythonSoftwareFoundation.Python.3.11_qbz5n2kfra8p0\\LocalCache\\local-packages\\Python311\\site-packages\\pandas\\core\\arraylike.py:399: RuntimeWarning: invalid value encountered in cos\n",
      "  result = getattr(ufunc, method)(*inputs, **kwargs)\n",
      "c:\\Users\\pyde1\\Videos\\Captures\\LaboratorioDeFisica\\ajuste_exp\\ajuste.py:17: RuntimeWarning: invalid value encountered in sqrt\n",
      "  np.cos(np.sqrt(c**2 - b**2) * x + b / np.sqrt(c**2 - b**2))\n",
      "c:\\Users\\pyde1\\Videos\\Captures\\LaboratorioDeFisica\\ajuste_exp\\ajuste.py:18: RuntimeWarning: invalid value encountered in sqrt\n",
      "  * np.sin(np.sqrt(c**2 - b**2) * x)\n",
      "c:\\Users\\pyde1\\Videos\\Captures\\LaboratorioDeFisica\\ajuste_exp\\ajuste.py:60: OptimizeWarning: Covariance of the parameters could not be estimated\n",
      "  par_optimize, _ = curve_fit(func, x_data, y_data, p0=[1, 1, 1], maxfev=10000)\n",
      "c:\\Users\\pyde1\\Videos\\Captures\\LaboratorioDeFisica\\ajuste_exp\\ajuste.py:17: RuntimeWarning: divide by zero encountered in scalar divide\n",
      "  np.cos(np.sqrt(c**2 - b**2) * x + b / np.sqrt(c**2 - b**2))\n",
      "C:\\Users\\pyde1\\AppData\\Local\\Packages\\PythonSoftwareFoundation.Python.3.11_qbz5n2kfra8p0\\LocalCache\\local-packages\\Python311\\site-packages\\pandas\\core\\arraylike.py:399: RuntimeWarning: invalid value encountered in cos\n",
      "  result = getattr(ufunc, method)(*inputs, **kwargs)\n"
     ]
    },
    {
     "data": {
      "text/html": [
       "\n",
       "<style>\n",
       "  #altair-viz-b08f859345374d44ba881cef96db4187.vega-embed {\n",
       "    width: 100%;\n",
       "    display: flex;\n",
       "  }\n",
       "\n",
       "  #altair-viz-b08f859345374d44ba881cef96db4187.vega-embed details,\n",
       "  #altair-viz-b08f859345374d44ba881cef96db4187.vega-embed details summary {\n",
       "    position: relative;\n",
       "  }\n",
       "</style>\n",
       "<div id=\"altair-viz-b08f859345374d44ba881cef96db4187\"></div>\n",
       "<script type=\"text/javascript\">\n",
       "  var VEGA_DEBUG = (typeof VEGA_DEBUG == \"undefined\") ? {} : VEGA_DEBUG;\n",
       "  (function(spec, embedOpt){\n",
       "    let outputDiv = document.currentScript.previousElementSibling;\n",
       "    if (outputDiv.id !== \"altair-viz-b08f859345374d44ba881cef96db4187\") {\n",
       "      outputDiv = document.getElementById(\"altair-viz-b08f859345374d44ba881cef96db4187\");\n",
       "    }\n",
       "\n",
       "    const paths = {\n",
       "      \"vega\": \"https://cdn.jsdelivr.net/npm/vega@5?noext\",\n",
       "      \"vega-lib\": \"https://cdn.jsdelivr.net/npm/vega-lib?noext\",\n",
       "      \"vega-lite\": \"https://cdn.jsdelivr.net/npm/vega-lite@5.20.1?noext\",\n",
       "      \"vega-embed\": \"https://cdn.jsdelivr.net/npm/vega-embed@6?noext\",\n",
       "    };\n",
       "\n",
       "    function maybeLoadScript(lib, version) {\n",
       "      var key = `${lib.replace(\"-\", \"\")}_version`;\n",
       "      return (VEGA_DEBUG[key] == version) ?\n",
       "        Promise.resolve(paths[lib]) :\n",
       "        new Promise(function(resolve, reject) {\n",
       "          var s = document.createElement('script');\n",
       "          document.getElementsByTagName(\"head\")[0].appendChild(s);\n",
       "          s.async = true;\n",
       "          s.onload = () => {\n",
       "            VEGA_DEBUG[key] = version;\n",
       "            return resolve(paths[lib]);\n",
       "          };\n",
       "          s.onerror = () => reject(`Error loading script: ${paths[lib]}`);\n",
       "          s.src = paths[lib];\n",
       "        });\n",
       "    }\n",
       "\n",
       "    function showError(err) {\n",
       "      outputDiv.innerHTML = `<div class=\"error\" style=\"color:red;\">${err}</div>`;\n",
       "      throw err;\n",
       "    }\n",
       "\n",
       "    function displayChart(vegaEmbed) {\n",
       "      vegaEmbed(outputDiv, spec, embedOpt)\n",
       "        .catch(err => showError(`Javascript Error: ${err.message}<br>This usually means there's a typo in your chart specification. See the javascript console for the full traceback.`));\n",
       "    }\n",
       "\n",
       "    if(typeof define === \"function\" && define.amd) {\n",
       "      requirejs.config({paths});\n",
       "      let deps = [\"vega-embed\"];\n",
       "      require(deps, displayChart, err => showError(`Error loading script: ${err.message}`));\n",
       "    } else {\n",
       "      maybeLoadScript(\"vega\", \"5\")\n",
       "        .then(() => maybeLoadScript(\"vega-lite\", \"5.20.1\"))\n",
       "        .then(() => maybeLoadScript(\"vega-embed\", \"6\"))\n",
       "        .catch(showError)\n",
       "        .then(() => displayChart(vegaEmbed));\n",
       "    }\n",
       "  })({\"config\": {\"view\": {\"continuousWidth\": 300, \"continuousHeight\": 300}}, \"layer\": [{\"data\": {\"name\": \"data-0c39ef61c94f6cb99a7415d69367f9c3\"}, \"mark\": {\"type\": \"circle\", \"color\": \"blueviolet\"}, \"encoding\": {\"x\": {\"field\": \"Time\", \"scale\": {\"domain\": [3.0, 3.5]}, \"title\": \"Tempo (ms)\", \"type\": \"quantitative\"}, \"y\": {\"field\": \"U_b\", \"title\": \"Tens\\u00e3o (V)\", \"type\": \"quantitative\"}}, \"title\": \"Gr\\u00e1fico de Tens\\u00e3o vs Tempo\"}, {\"data\": {\"name\": \"data-f55570ffe388dbbb935ff4403cb33f8f\"}, \"mark\": {\"type\": \"line\", \"color\": \"red\"}, \"encoding\": {\"x\": {\"field\": \"Time\", \"scale\": {\"domain\": [3.0, 3.5]}, \"title\": \"Tempo (ms)\", \"type\": \"quantitative\"}, \"y\": {\"field\": \"U_b\", \"title\": \"Tens\\u00e3o (V)\", \"type\": \"quantitative\"}}, \"title\": \"Gr\\u00e1fico de Tens\\u00e3o vs Tempo\"}], \"height\": 400, \"width\": 600, \"$schema\": \"https://vega.github.io/schema/vega-lite/v5.20.1.json\", \"datasets\": {\"data-0c39ef61c94f6cb99a7415d69367f9c3\": [{\"Time\": 3.0, \"U_y\": 2.4068, \"U_b\": 1.911333}, {\"Time\": 3.005, \"U_y\": -2.3648, \"U_b\": 1.450933}, {\"Time\": 3.0100000000000002, \"U_y\": -2.268533, \"U_b\": 0.2746667}, {\"Time\": 3.015, \"U_y\": -2.267867, \"U_b\": -1.026933}, {\"Time\": 3.02, \"U_y\": -2.348533, \"U_b\": -2.094133}, {\"Time\": 3.025, \"U_y\": -2.432667, \"U_b\": -2.746533}, {\"Time\": 3.0300000000000002, \"U_y\": -2.5168, \"U_b\": -2.9736}, {\"Time\": 3.035, \"U_y\": -2.575467, \"U_b\": -2.870667}, {\"Time\": 3.04, \"U_y\": -2.6016, \"U_b\": -2.5768}, {\"Time\": 3.045, \"U_y\": -2.598667, \"U_b\": -2.253067}, {\"Time\": 3.0500000000000003, \"U_y\": -2.584133, \"U_b\": -1.99}, {\"Time\": 3.055, \"U_y\": -2.562667, \"U_b\": -1.8316}, {\"Time\": 3.06, \"U_y\": -2.534267, \"U_b\": -1.782933}, {\"Time\": 3.065, \"U_y\": -2.536, \"U_b\": -1.812667}, {\"Time\": 3.07, \"U_y\": -2.5308, \"U_b\": -1.879067}, {\"Time\": 3.075, \"U_y\": -2.521467, \"U_b\": -1.963733}, {\"Time\": 3.08, \"U_y\": -2.543467, \"U_b\": -2.025467}, {\"Time\": 3.085, \"U_y\": -2.534267, \"U_b\": -2.062667}, {\"Time\": 3.09, \"U_y\": -2.5412, \"U_b\": -2.075733}, {\"Time\": 3.095, \"U_y\": -2.541733, \"U_b\": -2.065467}, {\"Time\": 3.1, \"U_y\": -2.543467, \"U_b\": -2.050667}, {\"Time\": 3.105, \"U_y\": -2.5516, \"U_b\": -2.021467}, {\"Time\": 3.11, \"U_y\": -2.548133, \"U_b\": -2.019733}, {\"Time\": 3.115, \"U_y\": -2.543467, \"U_b\": -2.004267}, {\"Time\": 3.12, \"U_y\": -2.543467, \"U_b\": -2.0048}, {\"Time\": 3.125, \"U_y\": -2.545867, \"U_b\": -2.014}, {\"Time\": 3.13, \"U_y\": -2.548133, \"U_b\": -2.016267}, {\"Time\": 3.1350000000000002, \"U_y\": -2.538933, \"U_b\": -2.007733}, {\"Time\": 3.14, \"U_y\": -2.538933, \"U_b\": -2.018533}, {\"Time\": 3.145, \"U_y\": -2.531333, \"U_b\": -2.010533}, {\"Time\": 3.15, \"U_y\": -2.54, \"U_b\": -2.0152}, {\"Time\": 3.155, \"U_y\": -2.5452, \"U_b\": -2.025467}, {\"Time\": 3.16, \"U_y\": -2.543467, \"U_b\": -2.014}, {\"Time\": 3.1650000000000005, \"U_y\": -2.5476, \"U_b\": -2.024267}, {\"Time\": 3.17, \"U_y\": -2.5528, \"U_b\": -2.0128}, {\"Time\": 3.175, \"U_y\": -2.547067, \"U_b\": -2.018}, {\"Time\": 3.18, \"U_y\": -2.548133, \"U_b\": -2.018533}, {\"Time\": 3.185, \"U_y\": -2.542933, \"U_b\": -2.009467}, {\"Time\": 3.19, \"U_y\": -2.54, \"U_b\": -2.0152}, {\"Time\": 3.195, \"U_y\": -2.526133, \"U_b\": -2.017467}, {\"Time\": 3.2, \"U_y\": -2.524933, \"U_b\": -2.025467}, {\"Time\": 3.205, \"U_y\": -2.538267, \"U_b\": -2.016933}, {\"Time\": 3.21, \"U_y\": -2.5424, \"U_b\": -2.017467}, {\"Time\": 3.215, \"U_y\": -2.543467, \"U_b\": -2.015733}, {\"Time\": 3.22, \"U_y\": -2.536533, \"U_b\": -2.016267}, {\"Time\": 3.225, \"U_y\": -2.542933, \"U_b\": -2.015733}, {\"Time\": 3.2300000000000004, \"U_y\": -2.548133, \"U_b\": -2.019733}, {\"Time\": 3.235, \"U_y\": -2.543467, \"U_b\": -2.0072}, {\"Time\": 3.2399999999999998, \"U_y\": -2.531867, \"U_b\": -2.016267}, {\"Time\": 3.245, \"U_y\": -2.547067, \"U_b\": -2.023733}, {\"Time\": 3.2500000000000004, \"U_y\": -2.550533, \"U_b\": -2.019733}, {\"Time\": 3.255, \"U_y\": -2.547067, \"U_b\": -2.007733}, {\"Time\": 3.26, \"U_y\": -2.536533, \"U_b\": -2.016267}, {\"Time\": 3.265, \"U_y\": -2.537733, \"U_b\": -2.012267}, {\"Time\": 3.27, \"U_y\": -2.531867, \"U_b\": -2.010533}, {\"Time\": 3.2750000000000004, \"U_y\": -2.5372, \"U_b\": -2.020267}, {\"Time\": 3.28, \"U_y\": -2.543467, \"U_b\": -2.0072}, {\"Time\": 3.285, \"U_y\": -2.543467, \"U_b\": -2.0272}, {\"Time\": 3.29, \"U_y\": -2.5412, \"U_b\": -2.010533}, {\"Time\": 3.2950000000000004, \"U_y\": -2.542933, \"U_b\": -2.008267}, {\"Time\": 3.3, \"U_y\": -2.548133, \"U_b\": -2.018533}, {\"Time\": 3.305, \"U_y\": -2.544667, \"U_b\": -2.015733}, {\"Time\": 3.31, \"U_y\": -2.531867, \"U_b\": -2.017467}, {\"Time\": 3.3150000000000004, \"U_y\": -2.537733, \"U_b\": -2.018533}, {\"Time\": 3.32, \"U_y\": -2.548133, \"U_b\": -2.002533}, {\"Time\": 3.3249999999999997, \"U_y\": -2.537733, \"U_b\": -2.017467}, {\"Time\": 3.33, \"U_y\": -2.537733, \"U_b\": -2.0128}, {\"Time\": 3.3350000000000004, \"U_y\": -2.540667, \"U_b\": -2.019733}, {\"Time\": 3.3400000000000003, \"U_y\": -2.534267, \"U_b\": -2.009467}, {\"Time\": 3.3449999999999998, \"U_y\": -2.538933, \"U_b\": -2.010533}, {\"Time\": 3.35, \"U_y\": -2.5424, \"U_b\": -2.026533}, {\"Time\": 3.355, \"U_y\": -2.5424, \"U_b\": -2.0272}, {\"Time\": 3.3600000000000003, \"U_y\": -2.545867, \"U_b\": -2.020933}, {\"Time\": 3.3649999999999998, \"U_y\": -2.5452, \"U_b\": -2.025467}, {\"Time\": 3.37, \"U_y\": -2.549333, \"U_b\": -2.020933}, {\"Time\": 3.375, \"U_y\": -2.554, \"U_b\": -2.021467}, {\"Time\": 3.3800000000000003, \"U_y\": -2.548133, \"U_b\": -2.018533}, {\"Time\": 3.385, \"U_y\": -2.552267, \"U_b\": -2.0272}, {\"Time\": 3.3899999999999997, \"U_y\": -2.5424, \"U_b\": -2.017467}, {\"Time\": 3.395, \"U_y\": -2.538933, \"U_b\": -2.029467}, {\"Time\": 3.4000000000000004, \"U_y\": -2.550533, \"U_b\": -2.014}, {\"Time\": 3.4050000000000002, \"U_y\": -2.536533, \"U_b\": -2.0152}, {\"Time\": 3.4099999999999997, \"U_y\": -2.537733, \"U_b\": -2.025467}, {\"Time\": 3.415, \"U_y\": -2.5372, \"U_b\": -2.015733}, {\"Time\": 3.4200000000000004, \"U_y\": -2.550533, \"U_b\": -2.018533}, {\"Time\": 3.4250000000000003, \"U_y\": -2.542933, \"U_b\": -2.020933}, {\"Time\": 3.4299999999999997, \"U_y\": -2.543467, \"U_b\": -2.018533}, {\"Time\": 3.435, \"U_y\": -2.5464, \"U_b\": -2.021467}, {\"Time\": 3.44, \"U_y\": -2.548133, \"U_b\": -2.020933}, {\"Time\": 3.4450000000000003, \"U_y\": -2.5372, \"U_b\": -2.019733}, {\"Time\": 3.4499999999999997, \"U_y\": -2.538933, \"U_b\": -2.0232}, {\"Time\": 3.455, \"U_y\": -2.543467, \"U_b\": -2.016267}, {\"Time\": 3.46, \"U_y\": -2.543467, \"U_b\": -2.018533}, {\"Time\": 3.4650000000000003, \"U_y\": -2.54, \"U_b\": -2.009467}, {\"Time\": 3.47, \"U_y\": -2.533067, \"U_b\": -2.018533}, {\"Time\": 3.4749999999999996, \"U_y\": -2.534267, \"U_b\": -2.01}, {\"Time\": 3.48, \"U_y\": -2.538933, \"U_b\": -2.018533}, {\"Time\": 3.4850000000000003, \"U_y\": -2.549333, \"U_b\": -2.0192}, {\"Time\": 3.49, \"U_y\": -2.544667, \"U_b\": -2.022}, {\"Time\": 3.4949999999999997, \"U_y\": -2.544133, \"U_b\": -2.026}, {\"Time\": 3.5, \"U_y\": -2.548133, \"U_b\": -2.018533}], \"data-f55570ffe388dbbb935ff4403cb33f8f\": [{\"Time\": 3.0, \"U_b\": null}, {\"Time\": 3.005, \"U_b\": null}, {\"Time\": 3.0100000000000002, \"U_b\": null}, {\"Time\": 3.015, \"U_b\": null}, {\"Time\": 3.02, \"U_b\": null}, {\"Time\": 3.025, \"U_b\": null}, {\"Time\": 3.0300000000000002, \"U_b\": null}, {\"Time\": 3.035, \"U_b\": null}, {\"Time\": 3.04, \"U_b\": null}, {\"Time\": 3.045, \"U_b\": null}, {\"Time\": 3.0500000000000003, \"U_b\": null}, {\"Time\": 3.055, \"U_b\": null}, {\"Time\": 3.06, \"U_b\": null}, {\"Time\": 3.065, \"U_b\": null}, {\"Time\": 3.07, \"U_b\": null}, {\"Time\": 3.075, \"U_b\": null}, {\"Time\": 3.08, \"U_b\": null}, {\"Time\": 3.085, \"U_b\": null}, {\"Time\": 3.09, \"U_b\": null}, {\"Time\": 3.095, \"U_b\": null}, {\"Time\": 3.1, \"U_b\": null}, {\"Time\": 3.105, \"U_b\": null}, {\"Time\": 3.11, \"U_b\": null}, {\"Time\": 3.115, \"U_b\": null}, {\"Time\": 3.12, \"U_b\": null}, {\"Time\": 3.125, \"U_b\": null}, {\"Time\": 3.13, \"U_b\": null}, {\"Time\": 3.1350000000000002, \"U_b\": null}, {\"Time\": 3.14, \"U_b\": null}, {\"Time\": 3.145, \"U_b\": null}, {\"Time\": 3.15, \"U_b\": null}, {\"Time\": 3.155, \"U_b\": null}, {\"Time\": 3.16, \"U_b\": null}, {\"Time\": 3.1650000000000005, \"U_b\": null}, {\"Time\": 3.17, \"U_b\": null}, {\"Time\": 3.175, \"U_b\": null}, {\"Time\": 3.18, \"U_b\": null}, {\"Time\": 3.185, \"U_b\": null}, {\"Time\": 3.19, \"U_b\": null}, {\"Time\": 3.195, \"U_b\": null}, {\"Time\": 3.2, \"U_b\": null}, {\"Time\": 3.205, \"U_b\": null}, {\"Time\": 3.21, \"U_b\": null}, {\"Time\": 3.215, \"U_b\": null}, {\"Time\": 3.22, \"U_b\": null}, {\"Time\": 3.225, \"U_b\": null}, {\"Time\": 3.2300000000000004, \"U_b\": null}, {\"Time\": 3.235, \"U_b\": null}, {\"Time\": 3.2399999999999998, \"U_b\": null}, {\"Time\": 3.245, \"U_b\": null}, {\"Time\": 3.2500000000000004, \"U_b\": null}, {\"Time\": 3.255, \"U_b\": null}, {\"Time\": 3.26, \"U_b\": null}, {\"Time\": 3.265, \"U_b\": null}, {\"Time\": 3.27, \"U_b\": null}, {\"Time\": 3.2750000000000004, \"U_b\": null}, {\"Time\": 3.28, \"U_b\": null}, {\"Time\": 3.285, \"U_b\": null}, {\"Time\": 3.29, \"U_b\": null}, {\"Time\": 3.2950000000000004, \"U_b\": null}, {\"Time\": 3.3, \"U_b\": null}, {\"Time\": 3.305, \"U_b\": null}, {\"Time\": 3.31, \"U_b\": null}, {\"Time\": 3.3150000000000004, \"U_b\": null}, {\"Time\": 3.32, \"U_b\": null}, {\"Time\": 3.3249999999999997, \"U_b\": null}, {\"Time\": 3.33, \"U_b\": null}, {\"Time\": 3.3350000000000004, \"U_b\": null}, {\"Time\": 3.3400000000000003, \"U_b\": null}, {\"Time\": 3.3449999999999998, \"U_b\": null}, {\"Time\": 3.35, \"U_b\": null}, {\"Time\": 3.355, \"U_b\": null}, {\"Time\": 3.3600000000000003, \"U_b\": null}, {\"Time\": 3.3649999999999998, \"U_b\": null}, {\"Time\": 3.37, \"U_b\": null}, {\"Time\": 3.375, \"U_b\": null}, {\"Time\": 3.3800000000000003, \"U_b\": null}, {\"Time\": 3.385, \"U_b\": null}, {\"Time\": 3.3899999999999997, \"U_b\": null}, {\"Time\": 3.395, \"U_b\": null}, {\"Time\": 3.4000000000000004, \"U_b\": null}, {\"Time\": 3.4050000000000002, \"U_b\": null}, {\"Time\": 3.4099999999999997, \"U_b\": null}, {\"Time\": 3.415, \"U_b\": null}, {\"Time\": 3.4200000000000004, \"U_b\": null}, {\"Time\": 3.4250000000000003, \"U_b\": null}, {\"Time\": 3.4299999999999997, \"U_b\": null}, {\"Time\": 3.435, \"U_b\": null}, {\"Time\": 3.44, \"U_b\": null}, {\"Time\": 3.4450000000000003, \"U_b\": null}, {\"Time\": 3.4499999999999997, \"U_b\": null}, {\"Time\": 3.455, \"U_b\": null}, {\"Time\": 3.46, \"U_b\": null}, {\"Time\": 3.4650000000000003, \"U_b\": null}, {\"Time\": 3.47, \"U_b\": null}, {\"Time\": 3.4749999999999996, \"U_b\": null}, {\"Time\": 3.48, \"U_b\": null}, {\"Time\": 3.4850000000000003, \"U_b\": null}, {\"Time\": 3.49, \"U_b\": null}, {\"Time\": 3.4949999999999997, \"U_b\": null}, {\"Time\": 3.5, \"U_b\": null}]}}, {\"mode\": \"vega-lite\"});\n",
       "</script>"
      ],
      "text/plain": [
       "alt.LayerChart(...)"
      ]
     },
     "metadata": {},
     "output_type": "display_data"
    }
   ],
   "source": [
    "path = \"RLC-01.csv\"\n",
    "\n",
    "data = aj.slicing_data(path,[3,3.5],Rlc=True)\n",
    "data_regres, b = aj.regres_exp(data,Rlc=True)\n",
    "print(data_regres)\n",
    "(aj.data_x_regression(data,data_regres)).display()\n",
    "\n",
    "\n"
   ]
  }
 ],
 "metadata": {
  "kernelspec": {
   "display_name": "Python 3",
   "language": "python",
   "name": "python3"
  },
  "language_info": {
   "codemirror_mode": {
    "name": "ipython",
    "version": 3
   },
   "file_extension": ".py",
   "mimetype": "text/x-python",
   "name": "python",
   "nbconvert_exporter": "python",
   "pygments_lexer": "ipython3",
   "version": "3.11.9"
  }
 },
 "nbformat": 4,
 "nbformat_minor": 2
}
